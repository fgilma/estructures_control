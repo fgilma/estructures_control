{
 "cells": [
  {
   "cell_type": "markdown",
   "metadata": {},
   "source": [
    "# Nivell 1\n",
    "#### Exercici 1\n",
    "L'exercici consisteix a crear un programa que et classifiqui una variable numèrica en funció de l’escala Suspès/Aprovat/Notable/Excel·lent."
   ]
  },
  {
   "cell_type": "code",
   "execution_count": 25,
   "metadata": {
    "code_folding": []
   },
   "outputs": [
    {
     "name": "stdout",
     "output_type": "stream",
     "text": [
      "Introdueix un nombre sencer entre 0 i 10: 8\n",
      "Tens un notable\n"
     ]
    }
   ],
   "source": [
    "while True:\n",
    "    try:\n",
    "        n = input(\"Introdueix un nombre sencer entre 0 i 10: \")\n",
    "        n = int(n)\n",
    "        if n < 0 or n > 10:\n",
    "            raise ValueError(\"Invalid number\")\n",
    "        break\n",
    "    except ValueError:\n",
    "        print(\"No és correcte. Prova de nou ...\")\n",
    "    \n",
    "if n<5:\n",
    "    print('Estàs suspés')\n",
    "elif (n>=5 and n<7):\n",
    "    \n",
    "    print('Tens un aprovat')\n",
    "elif (n>=7 and n<9):\n",
    "    print('Tens un notable')\n",
    "else:\n",
    "    print('Tens un excelent')"
   ]
  },
  {
   "cell_type": "markdown",
   "metadata": {},
   "source": [
    "#### Exercici 2\n",
    "Utilitzant el següent tutorial Programiz: Python Input, Output and Import crea un programa que et pregunti dos números. T’ha de mostrar un missatge dient si el primer és més gran, el segon és més gran o són iguals."
   ]
  },
  {
   "cell_type": "code",
   "execution_count": 18,
   "metadata": {},
   "outputs": [
    {
     "name": "stdout",
     "output_type": "stream",
     "text": [
      "Introdueix un nombre sencer A: 4\n",
      "Introdueix un nombre sencer B: 4\n",
      "A i B són iguals, 4=4\n"
     ]
    }
   ],
   "source": [
    "while True:\n",
    "    try:\n",
    "        n1 = input(\"Introdueix un nombre sencer A: \")\n",
    "        n1 = int(n1)\n",
    "        n2 = input(\"Introdueix un nombre sencer B: \")\n",
    "        n2 = int(n2)\n",
    "        break\n",
    "    except ValueError:\n",
    "        print(\"No és correcte. Prova de nou ...\")\n",
    "if n1<n2:\n",
    "    print('El nombre B és més gran que A, %s>%s'%(n2,n1))\n",
    "elif n1>n2:\n",
    "    print('El nombre A és més gran que B, %s>%s'%(n1,n2))\n",
    "else:\n",
    "    print('A i B són iguals, %s=%s'%(n1,n2))"
   ]
  },
  {
   "cell_type": "markdown",
   "metadata": {},
   "source": [
    "#### Exercici 3\n",
    "Crea un programa que et pregunti el teu nom, i et demani un número. Si el número és 0, hauria de mostrar un missatge d’error. En cas contrari, hauria de mostrar el nom repetit tants cops com indiqui el número. Per exemple, “Joan Joan Joan”."
   ]
  },
  {
   "cell_type": "code",
   "execution_count": 27,
   "metadata": {},
   "outputs": [
    {
     "name": "stdout",
     "output_type": "stream",
     "text": [
      "Quin és el teu nom?: pepe\n",
      "Introdueix un número: 0\n",
      "No és correcte. Prova de nou ...\n",
      "Quin és el teu nom?: pepe\n",
      "Introdueix un número: 5\n",
      "pepe pepe pepe pepe pepe \n"
     ]
    }
   ],
   "source": [
    "while True:\n",
    "    try:\n",
    "        nom = input(\"Quin és el teu nom?: \")\n",
    "        n =input(\"Introdueix un número: \")\n",
    "        n=int(n)\n",
    "        if n == 0 :\n",
    "            raise ValueError(\"Invalid number\")\n",
    "        break\n",
    "    except ValueError:\n",
    "        print(\"No és correcte. Prova de nou ...\")\n",
    "print(n*(nom+' '))"
   ]
  },
  {
   "cell_type": "markdown",
   "metadata": {},
   "source": [
    "#### Exercici 4\n",
    "Crea un programa que donada una llista qualsevol, et digui si es simètrica o no. Si ho és, que et digui quants elements té."
   ]
  },
  {
   "cell_type": "code",
   "execution_count": 22,
   "metadata": {},
   "outputs": [],
   "source": [
    "def simetria(llista):\n",
    "    if llista==llista[::-1]:\n",
    "        print('La llista %s és simètrica' %llista)\n",
    "    else:\n",
    "        print('La llista %s no és simètrica' %llista)\n",
    "        print('La llista té {0} elements'.format(len(llista)))"
   ]
  },
  {
   "cell_type": "code",
   "execution_count": 24,
   "metadata": {},
   "outputs": [
    {
     "name": "stdout",
     "output_type": "stream",
     "text": [
      "La llista [0, 1, 2, 3, 2, 1, 0] és simètrica\n",
      "\n",
      "\n",
      "La llista [0, 1, 2, 3, 2, 1, 1] no és simètrica\n",
      "La llista té 7 elements\n"
     ]
    }
   ],
   "source": [
    "llista=[0,1,2,3,2,1,0]\n",
    "simetria(llista)\n",
    "print('\\n')\n",
    "llista=[0,1,2,3,2,1,1]\n",
    "simetria(llista)"
   ]
  },
  {
   "cell_type": "markdown",
   "metadata": {},
   "source": [
    "#### Exercici 5\n",
    "Crea un programa que donada una llista, et digui quants números coincideixen amb la seva posició. Per exemple [3,4,2,0,2,3,6] el 2 i el 6 coincideixen.\n"
   ]
  },
  {
   "cell_type": "code",
   "execution_count": 44,
   "metadata": {},
   "outputs": [
    {
     "data": {
      "text/plain": [
       "[0, 1, 2, 3]"
      ]
     },
     "execution_count": 44,
     "metadata": {},
     "output_type": "execute_result"
    }
   ],
   "source": [
    "llista=[0,1,2,3,2,1,1]\n",
    "[a for i,a in enumerate(llista) if a==i]"
   ]
  }
 ],
 "metadata": {
  "kernelspec": {
   "display_name": "Python 3",
   "language": "python",
   "name": "python3"
  },
  "language_info": {
   "codemirror_mode": {
    "name": "ipython",
    "version": 3
   },
   "file_extension": ".py",
   "mimetype": "text/x-python",
   "name": "python",
   "nbconvert_exporter": "python",
   "pygments_lexer": "ipython3",
   "version": "3.7.4"
  }
 },
 "nbformat": 4,
 "nbformat_minor": 2
}
